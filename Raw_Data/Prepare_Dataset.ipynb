{
 "cells": [
  {
   "cell_type": "code",
   "execution_count": 1,
   "id": "a19af171",
   "metadata": {},
   "outputs": [],
   "source": [
    "import shutil\n",
    "from tqdm.auto import tqdm\n",
    "import glob\n",
    "import os\n",
    "\n",
    "from sklearn.model_selection import train_test_split\n",
    "import zipfile"
   ]
  },
  {
   "cell_type": "code",
   "execution_count": 2,
   "id": "cdf3e8f4",
   "metadata": {},
   "outputs": [],
   "source": [
    "import sys\n",
    "# Don't generate the __pycache__ folder locally\n",
    "sys.dont_write_bytecode = True \n",
    "# Print exception without the buit-in python warning\n",
    "sys.tracebacklimit = 0\n",
    "\n",
    "from Prepare_Dataset_Modules import *"
   ]
  },
  {
   "cell_type": "code",
   "execution_count": 3,
   "id": "337373b9",
   "metadata": {},
   "outputs": [],
   "source": [
    "minimum_labels = 4\n",
    "\n",
    "patch_size = 800\n",
    "overlap = int(0.25 * patch_size)\n",
    "\n",
    "n_augmentations = 2 # Number of augmentations\n",
    "\n",
    "split_percentage = 0.2 # Train 80%, Validation 20%"
   ]
  },
  {
   "cell_type": "code",
   "execution_count": 4,
   "id": "5fb6a264",
   "metadata": {},
   "outputs": [],
   "source": [
    "main_dir = os.path.join('/home', 'ajinkya', 'Desktop', 'PyOrganoidAnalysis', 'Dataset')"
   ]
  },
  {
   "cell_type": "code",
   "execution_count": 5,
   "id": "a1a9ef39",
   "metadata": {},
   "outputs": [
    {
     "data": {
      "text/plain": [
       "'/home/ajinkya/Desktop/PyOrganoidAnalysis/Dataset/Training'"
      ]
     },
     "execution_count": 5,
     "metadata": {},
     "output_type": "execute_result"
    }
   ],
   "source": [
    "### Generate patches from Images and Masks\n",
    "\n",
    "# Ensure main directory exists or create it\n",
    "if os.path.exists('Annotations'):\n",
    "    shutil.rmtree('Annotations')\n",
    "\n",
    "# Path to the zip file\n",
    "zip_file_path = 'Annotations.zip'\n",
    "\n",
    "# Unzip the file to the current working directory\n",
    "with zipfile.ZipFile(zip_file_path, 'r') as zip_ref:\n",
    "    zip_ref.extractall()\n",
    "\n",
    "directory = os.path.join(main_dir, 'Training')\n",
    "\n",
    "# Ensure directory structures exist\n",
    "if os.path.exists(directory):\n",
    "    shutil.rmtree(directory)\n",
    "\n",
    "shutil.copytree('Annotations', directory)"
   ]
  },
  {
   "cell_type": "code",
   "execution_count": 6,
   "id": "b7edb6dd",
   "metadata": {},
   "outputs": [
    {
     "data": {
      "application/vnd.jupyter.widget-view+json": {
       "model_id": "b4323fb7c8044f03930818d1a75e492b",
       "version_major": 2,
       "version_minor": 0
      },
      "text/plain": [
       "Sequentially relabelling Masks:   0%|          | 0/180 [00:00<?, ?it/s]"
      ]
     },
     "metadata": {},
     "output_type": "display_data"
    },
    {
     "data": {
      "application/vnd.jupyter.widget-view+json": {
       "model_id": "b52cb7308f63429e8c9891d62906892b",
       "version_major": 2,
       "version_minor": 0
      },
      "text/plain": [
       "Sequentially relabelling Masks:   0%|          | 0/10 [00:00<?, ?it/s]"
      ]
     },
     "metadata": {},
     "output_type": "display_data"
    }
   ],
   "source": [
    "relabel_masks_in_folder(os.path.join('Annotations', 'Masks'))\n",
    "\n",
    "relabel_masks_in_folder(os.path.join(main_dir, 'Test', 'Masks'))"
   ]
  },
  {
   "cell_type": "code",
   "execution_count": 7,
   "id": "d87f56ac",
   "metadata": {},
   "outputs": [
    {
     "data": {
      "application/vnd.jupyter.widget-view+json": {
       "model_id": "6ea0797608fb4651a1e528fadf579964",
       "version_major": 2,
       "version_minor": 0
      },
      "text/plain": [
       "Creating Augmented and Validation directories:   0%|          | 0/2 [00:00<?, ?it/s]"
      ]
     },
     "metadata": {},
     "output_type": "display_data"
    }
   ],
   "source": [
    "directories = ['Augmented', 'Validation']\n",
    "\n",
    "# Generate directories based on conditions\n",
    "for directory in tqdm(directories, desc = 'Creating Augmented and Validation directories'):\n",
    "\n",
    "    # Ensure main directory exists or create it\n",
    "    dir_path = os.path.join(main_dir, directory)\n",
    "    if os.path.exists(dir_path):\n",
    "        shutil.rmtree(dir_path)\n",
    "    os.makedirs(dir_path)\n",
    "\n",
    "    # Remove existing 'Images' and 'Masks' directories if they exist\n",
    "    for sub_dir in ['Images', 'Masks']:\n",
    "        path = os.path.join(dir_path, sub_dir)\n",
    "\n",
    "        if os.path.exists(path):\n",
    "            shutil.rmtree(path)\n",
    "        os.makedirs(path)"
   ]
  },
  {
   "cell_type": "code",
   "execution_count": 8,
   "id": "18e4e723",
   "metadata": {},
   "outputs": [
    {
     "name": "stdout",
     "output_type": "stream",
     "text": [
      "Number of Images with 'Human_' prefix: 94\n",
      "Number of Images with 'Mouse_' prefix: 86\n"
     ]
    }
   ],
   "source": [
    "count_image_names_and_check_masks(os.path.join(main_dir, 'Training'))"
   ]
  },
  {
   "cell_type": "code",
   "execution_count": 9,
   "id": "5003b3b2",
   "metadata": {},
   "outputs": [
    {
     "data": {
      "application/vnd.jupyter.widget-view+json": {
       "model_id": "06934ec4ff5c4714ba0a7e74d14e140a",
       "version_major": 2,
       "version_minor": 0
      },
      "text/plain": [
       "Extracting patches:   0%|          | 0/180 [00:00<?, ?it/s]"
      ]
     },
     "metadata": {},
     "output_type": "display_data"
    }
   ],
   "source": [
    "extract_patches(os.path.join(main_dir, 'Training'), patch_size, overlap, minimum_labels)"
   ]
  },
  {
   "cell_type": "code",
   "execution_count": 10,
   "id": "60581feb",
   "metadata": {},
   "outputs": [
    {
     "name": "stdout",
     "output_type": "stream",
     "text": [
      "\n",
      "Number of training Images: 713 \n",
      "Number of training Masks: 713\n",
      "Number of validation Images: 179\n",
      "Number of validation Masks: 179\n"
     ]
    }
   ],
   "source": [
    "### Split the dataset in Train, Validation\n",
    "\n",
    "# Fetch image paths and corresponding mask paths\n",
    "\n",
    "base_path = os.path.join(main_dir, 'Training')\n",
    "\n",
    "images_path = sorted(glob.glob(os.path.join(base_path, 'Images', '*.tif')))\n",
    "masks_path = [f.replace('Images', 'Masks').replace('.tif', '_mask.tif') for f in images_path]\n",
    "\n",
    "# Split based on split_percentage\n",
    "train_images, validation_images, train_masks, validation_masks = train_test_split(images_path, masks_path, \n",
    "                                                                                  test_size=split_percentage)\n",
    "\n",
    "# Display split statistics\n",
    "print(f\"Number of training Images: {len(train_images)} \")\n",
    "print(f\"Number of training Masks: {len(train_masks)}\")\n",
    "\n",
    "print(f\"Number of validation Images: {len(validation_images)}\")\n",
    "print(f\"Number of validation Masks: {len(validation_masks)}\")\n",
    "\n",
    "# Move the Validation Images and Masks to the Validation folder\n",
    "for validation_img, validation_mask in zip(validation_images, validation_masks):\n",
    "    dest_img_path = validation_img.replace('Training', 'Validation')\n",
    "    dest_mask_path = validation_mask.replace('Training', 'Validation')\n",
    "    shutil.move(validation_img, dest_img_path)\n",
    "    shutil.move(validation_mask, dest_mask_path)"
   ]
  },
  {
   "cell_type": "code",
   "execution_count": 11,
   "id": "edb53a15",
   "metadata": {},
   "outputs": [
    {
     "data": {
      "application/vnd.jupyter.widget-view+json": {
       "model_id": "938728d558bf454ba9d315ba81d98f1f",
       "version_major": 2,
       "version_minor": 0
      },
      "text/plain": [
       "Augmenting Images from Training (2x):   0%|          | 0/713 [00:00<?, ?it/s]"
      ]
     },
     "metadata": {},
     "output_type": "display_data"
    }
   ],
   "source": [
    "if n_augmentations >= 2:\n",
    "    \n",
    "    # Fetch training image paths (only the training set after split)\n",
    "    base_path = os.path.join(main_dir, 'Training')\n",
    "\n",
    "    train_images = sorted(glob.glob(os.path.join(base_path, 'Images', '*.tif')))\n",
    "    train_masks = [f.replace('Images', 'Masks').replace('.tif', '_mask.tif') for f in train_images]\n",
    "\n",
    "    # Filter Images that start with \"mouse_\"\n",
    "    mouse_images = [img for img in train_images if os.path.basename(img).startswith('mouse_')]\n",
    "\n",
    "    # Augmentation Process\n",
    "    for img_path, mask_path in tqdm(list(zip(train_images, train_masks)), \n",
    "                                    desc=f'Augmenting Images from Training ({n_augmentations}x)', leave=True):\n",
    "\n",
    "        for aug_idx in range(n_augmentations):\n",
    "            image = Image.open(img_path).convert('L')\n",
    "            mask = Image.open(mask_path)\n",
    "\n",
    "            image_np = np.array(image).astype(np.uint8)\n",
    "            mask_np = np.array(mask).astype(np.uint16)\n",
    "\n",
    "            aug_image_np, aug_mask_np = augment(image_np, mask_np)\n",
    "\n",
    "            aug_image = Image.fromarray(aug_image_np)\n",
    "            aug_mask = Image.fromarray(aug_mask_np)\n",
    "\n",
    "            base_img_name = os.path.basename(img_path).replace('.tif', f'_aug{aug_idx}.tif')\n",
    "            base_mask_name = os.path.basename(mask_path).replace('_mask.tif', f'_aug{aug_idx}_mask.tif')\n",
    "\n",
    "            aug_img_path = os.path.join(main_dir, 'Augmented', 'Images', base_img_name)\n",
    "                                        \n",
    "            aug_mask_path = os.path.join(main_dir, 'Augmented', 'Masks', base_mask_name)\n",
    "\n",
    "            aug_image.save(aug_img_path)\n",
    "            aug_mask.save(aug_mask_path)"
   ]
  },
  {
   "cell_type": "code",
   "execution_count": 12,
   "id": "2420eb47",
   "metadata": {},
   "outputs": [
    {
     "name": "stdout",
     "output_type": "stream",
     "text": [
      "In Training:\n",
      "Number of Images: 713\n",
      "Number of Masks: 713\n",
      "----------------------------\n",
      "In Validation:\n",
      "Number of Images: 179\n",
      "Number of Masks: 179\n",
      "----------------------------\n",
      "In Augmented:\n",
      "Number of Images: 1426\n",
      "Number of Masks: 1426\n",
      "----------------------------\n",
      "\n",
      "All Images and Masks meet the requirements:\n",
      "Images: Data type - <class 'numpy.uint8'>, Value range - (0, 255)\n",
      "Masks: Data type - <class 'numpy.uint16'>, Value range - (0, 65535)\n",
      "\n",
      "In Training:\n",
      "Number of Images starting with 'Human_': 364\n",
      "Number of Images starting with 'Mouse_': 349\n",
      "Number of Masks starting with 'Human_': 364\n",
      "Number of Masks starting with 'Mouse_': 349\n",
      "\n",
      "In Validation:\n",
      "Number of Images starting with 'Human_': 98\n",
      "Number of Images starting with 'Mouse_': 81\n",
      "Number of Masks starting with 'Human_': 98\n",
      "Number of Masks starting with 'Mouse_': 81\n",
      "\n",
      "In Augmented:\n",
      "Number of Images starting with 'Human_': 728\n",
      "Number of Images starting with 'Mouse_': 698\n",
      "Number of Masks starting with 'Human_': 728\n",
      "Number of Masks starting with 'Mouse_': 698\n"
     ]
    }
   ],
   "source": [
    "check_data_sanity()\n",
    "\n",
    "print()\n",
    "\n",
    "validate_and_count_images()"
   ]
  },
  {
   "cell_type": "code",
   "execution_count": 13,
   "id": "02e17117",
   "metadata": {},
   "outputs": [
    {
     "data": {
      "application/vnd.jupyter.widget-view+json": {
       "model_id": "d8a07b08516e44c9811f8507f1496964",
       "version_major": 2,
       "version_minor": 0
      },
      "text/plain": [
       "Calculating statistics on Masks:   0%|          | 0/180 [00:00<?, ?it/s]"
      ]
     },
     "metadata": {},
     "output_type": "display_data"
    },
    {
     "name": "stdout",
     "output_type": "stream",
     "text": [
      "Total number of Human Organoids in 'Annotations/Masks' for 94 Masks is: 6075\n",
      "Total number of Mouse Organoids in 'Annotations/Masks' for 86 Masks is: 17310\n"
     ]
    }
   ],
   "source": [
    "count_organoid_number_by_type(os.path.join('Annotations', 'Masks'))"
   ]
  },
  {
   "cell_type": "code",
   "execution_count": 14,
   "id": "2bcd7115",
   "metadata": {},
   "outputs": [
    {
     "data": {
      "application/vnd.jupyter.widget-view+json": {
       "model_id": "e517f2ad2e8749a59dd1d4469b70edf6",
       "version_major": 2,
       "version_minor": 0
      },
      "text/plain": [
       "Calculating statistics on Masks:   0%|          | 0/10 [00:00<?, ?it/s]"
      ]
     },
     "metadata": {},
     "output_type": "display_data"
    },
    {
     "name": "stdout",
     "output_type": "stream",
     "text": [
      "Total number of Human Organoids in '/home/ajinkya/Desktop/PyOrganoidAnalysis/Dataset/Test/Masks' for 5 Masks is: 365\n",
      "Total number of Mouse Organoids in '/home/ajinkya/Desktop/PyOrganoidAnalysis/Dataset/Test/Masks' for 5 Masks is: 8633\n"
     ]
    }
   ],
   "source": [
    "count_organoid_number_by_type(os.path.join(main_dir, 'Test', 'Masks'))"
   ]
  },
  {
   "cell_type": "code",
   "execution_count": 15,
   "id": "38b31aa3",
   "metadata": {},
   "outputs": [],
   "source": [
    "### Remove the Annotations directory after the dataset generation is complete\n",
    "\n",
    "if os.path.exists('Annotations'):\n",
    "    shutil.rmtree('Annotations')"
   ]
  },
  {
   "cell_type": "code",
   "execution_count": null,
   "id": "b64d6a35",
   "metadata": {},
   "outputs": [],
   "source": []
  }
 ],
 "metadata": {
  "kernelspec": {
   "display_name": "Python 3 (ipykernel)",
   "language": "python",
   "name": "python3"
  },
  "language_info": {
   "codemirror_mode": {
    "name": "ipython",
    "version": 3
   },
   "file_extension": ".py",
   "mimetype": "text/x-python",
   "name": "python",
   "nbconvert_exporter": "python",
   "pygments_lexer": "ipython3",
   "version": "3.10.12"
  }
 },
 "nbformat": 4,
 "nbformat_minor": 5
}
