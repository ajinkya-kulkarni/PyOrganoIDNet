{
 "cells": [
  {
   "cell_type": "code",
   "execution_count": 1,
   "id": "27f67817",
   "metadata": {},
   "outputs": [
    {
     "name": "stdout",
     "output_type": "stream",
     "text": [
      "\u001b[H\u001b[2J"
     ]
    }
   ],
   "source": [
    "import shutil\n",
    "from tqdm.auto import tqdm\n",
    "import glob\n",
    "import os\n",
    "\n",
    "from sklearn.model_selection import train_test_split\n",
    "import zipfile"
   ]
  },
  {
   "cell_type": "code",
   "execution_count": null,
   "id": "91c699d9",
   "metadata": {},
   "outputs": [],
   "source": [
    "import sys\n",
    "# Don't generate the __pycache__ folder locally\n",
    "sys.dont_write_bytecode = True \n",
    "# Print exception without the buit-in python warning\n",
    "sys.tracebacklimit = 0\n",
    "\n",
    "from Prepare_Dataset_Modules import *"
   ]
  },
  {
   "cell_type": "code",
   "execution_count": 2,
   "id": "5653b68b",
   "metadata": {},
   "outputs": [],
   "source": [
    "minimum_labels = 4\n",
    "\n",
    "patch_size = 800\n",
    "overlap = int(0.25 * patch_size)\n",
    "\n",
    "n_augmentations = 2 # Number of augmentations\n",
    "\n",
    "split_percentage = 0.2 # Train 80%, Validation 20%"
   ]
  },
  {
   "cell_type": "code",
   "execution_count": 3,
   "id": "86556e85",
   "metadata": {},
   "outputs": [
    {
     "data": {
      "application/vnd.jupyter.widget-view+json": {
       "model_id": "e3551a4e9a9b499d983274de3d128b27",
       "version_major": 2,
       "version_minor": 0
      },
      "text/plain": [
       "Sequentially relabelling Masks in Annotations/Masks:   0%|          | 0/180 [00:00<?, ?it/s]"
      ]
     },
     "metadata": {},
     "output_type": "display_data"
    },
    {
     "data": {
      "application/vnd.jupyter.widget-view+json": {
       "model_id": "75412d1817634293825db208a8f354ec",
       "version_major": 2,
       "version_minor": 0
      },
      "text/plain": [
       "Sequentially relabelling Masks in /home/ajinkya/Desktop/PyOrganoidAnalysis/Dataset/Test/Masks:   0%|          …"
      ]
     },
     "metadata": {},
     "output_type": "display_data"
    },
    {
     "name": "stdout",
     "output_type": "stream",
     "text": [
      "\n"
     ]
    }
   ],
   "source": [
    "# ### Generate patches from Images and Masks\n",
    "\n",
    "# Ensure main directory exists or create it\n",
    "if os.path.exists('Annotations'):\n",
    "    shutil.rmtree('Annotations')\n",
    "\n",
    "# Path to the zip file\n",
    "zip_file_path = 'Annotations.zip'\n",
    "\n",
    "# Unzip the file to the current working directory\n",
    "with zipfile.ZipFile(zip_file_path, 'r') as zip_ref:\n",
    "    zip_ref.extractall()\n",
    "\n",
    "directory = os.path.join('/home', 'ajinkya', 'Desktop', 'PyOrganoidAnalysis', 'Dataset', 'Training')\n",
    "\n",
    "# Ensure directory structures exist\n",
    "if os.path.exists(directory):\n",
    "    shutil.rmtree(directory)\n",
    "\n",
    "shutil.copytree('Annotations', directory)\n",
    "\n",
    "relabel_masks_in_folder(os.path.join('Annotations', 'Masks'))\n",
    "relabel_masks_in_folder(os.path.join('/home', 'ajinkya', 'Desktop', 'PyOrganoidAnalysis', 'Dataset', 'Test', 'Masks'))\n",
    "\n",
    "print()"
   ]
  },
  {
   "cell_type": "code",
   "execution_count": 4,
   "id": "4880e841",
   "metadata": {},
   "outputs": [
    {
     "data": {
      "application/vnd.jupyter.widget-view+json": {
       "model_id": "91fbb0fc06f84cc0a6fdbea0d0b68fd0",
       "version_major": 2,
       "version_minor": 0
      },
      "text/plain": [
       "Creating Augmented and Validation directories:   0%|          | 0/2 [00:00<?, ?it/s]"
      ]
     },
     "metadata": {},
     "output_type": "display_data"
    }
   ],
   "source": [
    "directories = ['Augmented', 'Validation']\n",
    "\n",
    "# Generate directories based on conditions\n",
    "for directory in tqdm(directories, desc = 'Creating Augmented and Validation directories'):\n",
    "\n",
    "    # Ensure main directory exists or create it\n",
    "    dir_path = os.path.join('/home', 'ajinkya', 'Desktop', 'PyOrganoidAnalysis', 'Dataset', directory)\n",
    "    if os.path.exists(dir_path):\n",
    "        shutil.rmtree(dir_path)\n",
    "    os.makedirs(dir_path)\n",
    "\n",
    "    # Remove existing 'Images' and 'Masks' directories if they exist\n",
    "    for sub_dir in ['Images', 'Masks']:\n",
    "        path = os.path.join(dir_path, sub_dir)\n",
    "\n",
    "        if os.path.exists(path):\n",
    "            shutil.rmtree(path)\n",
    "        os.makedirs(path)"
   ]
  },
  {
   "cell_type": "code",
   "execution_count": 5,
   "id": "afbe1189",
   "metadata": {},
   "outputs": [
    {
     "name": "stdout",
     "output_type": "stream",
     "text": [
      "\n",
      "Number of Images with 'human_' prefix: 94\n",
      "Number of Images with 'mouse_' prefix: 86\n",
      "\n"
     ]
    }
   ],
   "source": [
    "count_image_names_and_check_masks(os.path.join('/home', 'ajinkya', 'Desktop', 'PyOrganoidAnalysis', 'Dataset', 'Training'))"
   ]
  },
  {
   "cell_type": "code",
   "execution_count": 6,
   "id": "c02873e5",
   "metadata": {},
   "outputs": [
    {
     "data": {
      "application/vnd.jupyter.widget-view+json": {
       "model_id": "b5d0bf9cc10b48769e052c86a003330e",
       "version_major": 2,
       "version_minor": 0
      },
      "text/plain": [
       "Extracting patches:   0%|          | 0/180 [00:00<?, ?it/s]"
      ]
     },
     "metadata": {},
     "output_type": "display_data"
    }
   ],
   "source": [
    "extract_patches(os.path.join('/home', 'ajinkya', 'Desktop', 'PyOrganoidAnalysis', 'Dataset', 'Training'), \n",
    "                patch_size, overlap, minimum_labels)"
   ]
  },
  {
   "cell_type": "code",
   "execution_count": 7,
   "id": "ead4e77c",
   "metadata": {},
   "outputs": [
    {
     "name": "stdout",
     "output_type": "stream",
     "text": [
      "\n",
      "Number of training Images: 713 \n",
      "Number of training Masks: 713\n",
      "Number of validation Images: 179\n",
      "Number of validation Masks: 179\n"
     ]
    }
   ],
   "source": [
    "# ### Split the dataset in Train, Validation\n",
    "\n",
    "# Fetch image paths and corresponding mask paths\n",
    "\n",
    "base_path = os.path.join('/home', 'ajinkya', 'Desktop', 'PyOrganoidAnalysis', 'Dataset', 'Training')\n",
    "\n",
    "images_path = sorted(glob.glob(os.path.join(base_path, 'Images', '*.tif')))\n",
    "masks_path = [f.replace('Images', 'Masks').replace('.tif', '_mask.tif') for f in images_path]\n",
    "\n",
    "# Split based on split_percentage\n",
    "train_images, validation_images, train_masks, validation_masks = train_test_split(images_path, masks_path, test_size=split_percentage)\n",
    "\n",
    "print()\n",
    "\n",
    "# Display split statistics\n",
    "print(f\"Number of training Images: {len(train_images)} \")\n",
    "print(f\"Number of training Masks: {len(train_masks)}\")\n",
    "\n",
    "print(f\"Number of validation Images: {len(validation_images)}\")\n",
    "print(f\"Number of validation Masks: {len(validation_masks)}\")\n",
    "\n",
    "# Move the Validation Images and Masks to the Validation folder\n",
    "for validation_img, validation_mask in zip(validation_images, validation_masks):\n",
    "    dest_img_path = validation_img.replace('Training', 'Validation')\n",
    "    dest_mask_path = validation_mask.replace('Training', 'Validation')\n",
    "    shutil.move(validation_img, dest_img_path)\n",
    "    shutil.move(validation_mask, dest_mask_path)"
   ]
  },
  {
   "cell_type": "code",
   "execution_count": 8,
   "id": "a4c408e0",
   "metadata": {},
   "outputs": [
    {
     "name": "stdout",
     "output_type": "stream",
     "text": [
      "\n"
     ]
    },
    {
     "data": {
      "application/vnd.jupyter.widget-view+json": {
       "model_id": "380f2ca5e1c74efcb2776186d0a70480",
       "version_major": 2,
       "version_minor": 0
      },
      "text/plain": [
       "Augmenting Images from Training (2x):   0%|          | 0/713 [00:00<?, ?it/s]"
      ]
     },
     "metadata": {},
     "output_type": "display_data"
    }
   ],
   "source": [
    "if n_augmentations >= 2:\n",
    "\n",
    "    print()\n",
    "\n",
    "    # Fetch training image paths (only the training set after split)\n",
    "    base_path = os.path.join('/home', 'ajinkya', 'Desktop', 'PyOrganoidAnalysis', 'Dataset', 'Training')\n",
    "\n",
    "    train_images = sorted(glob.glob(os.path.join(base_path, 'Images', '*.tif')))\n",
    "    train_masks = [f.replace('Images', 'Masks').replace('.tif', '_mask.tif') for f in train_images]\n",
    "\n",
    "    # Filter Images that start with \"mouse_\"\n",
    "    mouse_images = [img for img in train_images if os.path.basename(img).startswith('mouse_')]\n",
    "\n",
    "    # Augmentation Process\n",
    "    for img_path, mask_path in tqdm(list(zip(train_images, train_masks)), desc=f'Augmenting Images from Training ({n_augmentations}x)', leave=True):\n",
    "\n",
    "        for aug_idx in range(n_augmentations):\n",
    "            image = Image.open(img_path).convert('L')\n",
    "            mask = Image.open(mask_path)\n",
    "\n",
    "            image_np = np.array(image).astype(np.uint8)\n",
    "            mask_np = np.array(mask).astype(np.uint16)\n",
    "\n",
    "            aug_image_np, aug_mask_np = augment(image_np, mask_np)\n",
    "\n",
    "            aug_image = Image.fromarray(aug_image_np)\n",
    "            aug_mask = Image.fromarray(aug_mask_np)\n",
    "\n",
    "            base_img_name = os.path.basename(img_path).replace('.tif', f'_aug{aug_idx}.tif')\n",
    "            base_mask_name = os.path.basename(mask_path).replace('_mask.tif', f'_aug{aug_idx}_mask.tif')\n",
    "\n",
    "            aug_img_path = os.path.join('/home', 'ajinkya', 'Desktop', 'PyOrganoidAnalysis', 'Dataset',\n",
    "                                                     'Augmented', 'Images', base_img_name)\n",
    "                                        \n",
    "            aug_mask_path = os.path.join('/home', 'ajinkya', 'Desktop', 'PyOrganoidAnalysis', 'Dataset',\n",
    "                                                     'Augmented', 'Masks', base_mask_name)\n",
    "\n",
    "            aug_image.save(aug_img_path)\n",
    "            aug_mask.save(aug_mask_path)"
   ]
  },
  {
   "cell_type": "code",
   "execution_count": 9,
   "id": "9b7531a4",
   "metadata": {},
   "outputs": [
    {
     "name": "stdout",
     "output_type": "stream",
     "text": [
      "\n",
      "In Training:\n",
      "Number of Images: 713\n",
      "Number of Masks: 713\n",
      "----------------------------\n",
      "In Validation:\n",
      "Number of Images: 179\n",
      "Number of Masks: 179\n",
      "----------------------------\n",
      "In Augmented:\n",
      "Number of Images: 1426\n",
      "Number of Masks: 1426\n",
      "----------------------------\n",
      "\n",
      "All Images and Masks meet the requirements:\n",
      "Images: Data type - <class 'numpy.uint8'>, Value range - (0, 255)\n",
      "Masks: Data type - <class 'numpy.uint16'>, Value range - (0, 65535)\n",
      "\n",
      "In Training:\n",
      "Number of Images starting with 'human_': 362\n",
      "Number of Images starting with 'mouse_': 351\n",
      "Number of Masks starting with 'human_': 362\n",
      "Number of Masks starting with 'mouse_': 351\n",
      "\n",
      "In Validation:\n",
      "Number of Images starting with 'human_': 100\n",
      "Number of Images starting with 'mouse_': 79\n",
      "Number of Masks starting with 'human_': 100\n",
      "Number of Masks starting with 'mouse_': 79\n",
      "\n",
      "In Augmented:\n",
      "Number of Images starting with 'human_': 724\n",
      "Number of Images starting with 'mouse_': 702\n",
      "Number of Masks starting with 'human_': 724\n",
      "Number of Masks starting with 'mouse_': 702\n",
      "\n"
     ]
    }
   ],
   "source": [
    "check_data_sanity()\n",
    "\n",
    "print()\n",
    "\n",
    "validate_and_count_images()"
   ]
  },
  {
   "cell_type": "code",
   "execution_count": 10,
   "id": "bddecd92",
   "metadata": {},
   "outputs": [
    {
     "data": {
      "application/vnd.jupyter.widget-view+json": {
       "model_id": "7dae790ef2c14670b77f0cf566e53b5d",
       "version_major": 2,
       "version_minor": 0
      },
      "text/plain": [
       "Calculating statistics on Masks:   0%|          | 0/180 [00:00<?, ?it/s]"
      ]
     },
     "metadata": {},
     "output_type": "display_data"
    },
    {
     "name": "stdout",
     "output_type": "stream",
     "text": [
      "Total number of Human Organoids in 'Annotations/Masks' for 94 Masks is: 6075\n",
      "Total number of Mouse Organoids in 'Annotations/Masks' for 86 Masks is: 17310\n"
     ]
    }
   ],
   "source": [
    "count_organoid_number_by_type(os.path.join('Annotations', 'Masks'))"
   ]
  },
  {
   "cell_type": "code",
   "execution_count": 16,
   "id": "d2f10f1d",
   "metadata": {},
   "outputs": [
    {
     "data": {
      "application/vnd.jupyter.widget-view+json": {
       "model_id": "d0cd4321f3d84fb8bc39327e88a296e1",
       "version_major": 2,
       "version_minor": 0
      },
      "text/plain": [
       "Calculating statistics on Masks:   0%|          | 0/10 [00:00<?, ?it/s]"
      ]
     },
     "metadata": {},
     "output_type": "display_data"
    },
    {
     "name": "stdout",
     "output_type": "stream",
     "text": [
      "Total number of Human Organoids in '/home/ajinkya/Desktop/PyOrganoidAnalysis/Dataset/Test/Masks' for 5 Masks is: 365\n",
      "Total number of Mouse Organoids in '/home/ajinkya/Desktop/PyOrganoidAnalysis/Dataset/Test/Masks' for 5 Masks is: 8633\n"
     ]
    }
   ],
   "source": [
    "count_organoid_number_by_type(os.path.join('/home', 'ajinkya', 'Desktop', 'PyOrganoidAnalysis', \n",
    "                                           'Dataset', 'Test', 'Masks'))"
   ]
  },
  {
   "cell_type": "code",
   "execution_count": null,
   "id": "90caf848",
   "metadata": {},
   "outputs": [],
   "source": []
  }
 ],
 "metadata": {
  "kernelspec": {
   "display_name": "Python 3 (ipykernel)",
   "language": "python",
   "name": "python3"
  },
  "language_info": {
   "codemirror_mode": {
    "name": "ipython",
    "version": 3
   },
   "file_extension": ".py",
   "mimetype": "text/x-python",
   "name": "python",
   "nbconvert_exporter": "python",
   "pygments_lexer": "ipython3",
   "version": "3.10.12"
  }
 },
 "nbformat": 4,
 "nbformat_minor": 5
}
